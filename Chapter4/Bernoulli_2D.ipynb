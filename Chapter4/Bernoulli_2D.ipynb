{
 "cells": [
  {
   "cell_type": "code",
   "execution_count": 1,
   "id": "64fe3bf8",
   "metadata": {},
   "outputs": [],
   "source": [
    "import sympy as sym\n",
    "import numpy as np\n",
    "sym.init_printing()"
   ]
  },
  {
   "cell_type": "markdown",
   "id": "94678181",
   "metadata": {},
   "source": [
    "# Framework"
   ]
  },
  {
   "cell_type": "markdown",
   "id": "c06fe27a",
   "metadata": {},
   "source": [
    "We have that $X=(X_1, X_2)$ with\n",
    "$$X_1 \\sim \\mathcal{B}(q_1), \\quad X_2 \\sim \\mathcal{B}(q_2).$$\n",
    "Additionnally, let\n",
    "$$\\rho = \\mathbb{P}(\\{X_1=1\\} \\cap \\{X_2=1\\}).$$"
   ]
  },
  {
   "cell_type": "code",
   "execution_count": 2,
   "id": "10a637f5",
   "metadata": {},
   "outputs": [],
   "source": [
    "## Variables\n",
    "q1, q2= sym.symbols('q1,q2', positive=True)\n",
    "rho=sym.Symbol(\"rho\")"
   ]
  },
  {
   "cell_type": "markdown",
   "id": "4d895133",
   "metadata": {},
   "source": [
    "The joint law of $X$ is given by\n",
    "\\begin{align*}\n",
    " p_{00} &= \\mathbb{P}(\\{X_1=0\\} \\cap \\{X_2=0\\}) = 1-q_1-q_2+\\rho\\\\\n",
    " p_{01} &= \\mathbb{P}(\\{X_1=0\\} \\cap \\{X_2=1\\}) = q_2-\\rho \\\\\n",
    " p_{10} &= \\mathbb{P}(\\{X_1=1\\} \\cap \\{X_2=0\\}) = q_1-\\rho \\\\\n",
    " p_{11} &= \\mathbb{P}(\\{X_1=1\\} \\cap \\{X_2=1\\}) = \\rho \\\\\n",
    "\\end{align*}"
   ]
  },
  {
   "cell_type": "code",
   "execution_count": 3,
   "id": "013f1b88",
   "metadata": {},
   "outputs": [],
   "source": [
    "p00=1-q1-q2+rho\n",
    "p01=q2-rho\n",
    "p10=q1-rho\n",
    "p11=rho\n",
    "\n",
    "probs=[p00, p01, p10, p11]"
   ]
  },
  {
   "cell_type": "code",
   "execution_count": 4,
   "id": "84aa017d",
   "metadata": {},
   "outputs": [],
   "source": [
    "## Functions\n",
    "def prosca(pr,a,b): #E[ab] = a^T P b\n",
    "    tmp=[x*y*z for x,y,z in zip(pr, a, b)]\n",
    "    return(sum(tmp))\n",
    "\n",
    "def norm_sq(pr, x): #E[x^2] = x^T P x\n",
    "    return(prosca(pr, x,x))\n",
    "\n",
    "def orthProj(probs, vec, subspace):\n",
    "    weight=prosca(probs, vec, subspace)/norm_sq(probs, subspace)\n",
    "    return([x*weight for x in subspace])"
   ]
  },
  {
   "cell_type": "markdown",
   "id": "8378628b",
   "metadata": {},
   "source": [
    "# Defining the subspaces and the canonical decomposition\n",
    "\n",
    "First, notice that the functions of $X$ can only take four different values. Hence, any $G : \\{0,1\\}^2 \\rightarrow \\mathbb{R}$ can be represented as a vector in $\\mathbb{R}^4$."
   ]
  },
  {
   "cell_type": "markdown",
   "id": "49742b42",
   "metadata": {},
   "source": [
    "##  $V_{\\emptyset}$\n",
    "\n",
    "Notice that $V_{\\emptyset}$ is comprised of constant functions of $X$. In other words, for every $v_{\\emptyset} \\in V_{\\emptyset}$, it can be represented as\n",
    "$$v_{\\emptyset} = \\begin{pmatrix} c\\\\c\\\\c\\\\c \\end{pmatrix},$$\n",
    "where $c \\in \\mathbb{R}$."
   ]
  },
  {
   "cell_type": "code",
   "execution_count": 5,
   "id": "b31b34f8",
   "metadata": {},
   "outputs": [],
   "source": [
    "c=sym.Symbol(\"c\")\n",
    "ve=[c,c,c,c]\n",
    "param_ve=[c]"
   ]
  },
  {
   "cell_type": "markdown",
   "id": "e4cc2076",
   "metadata": {},
   "source": [
    "We want to find a vector $v_{\\emptyset} \\in V_{\\emptyset}$ such that its norm (w.r.t. the joint law of $X$) is equal to 1."
   ]
  },
  {
   "cell_type": "code",
   "execution_count": 6,
   "id": "5e621c30",
   "metadata": {},
   "outputs": [
    {
     "data": {
      "image/png": "[encoded data removed]",
      "text/latex": [
       "$\\displaystyle \\left[ c^{2} \\rho + c^{2} \\left(q_{1} - \\rho\\right) + c^{2} \\left(q_{2} - \\rho\\right) + c^{2} \\left(- q_{1} - q_{2} + \\rho + 1\\right) - 1\\right]$"
      ],
      "text/plain": [
       "⎡ 2      2             2             2                       ⎤\n",
       "⎣c ⋅ρ + c ⋅(q₁ - ρ) + c ⋅(q₂ - ρ) + c ⋅(-q₁ - q₂ + ρ + 1) - 1⎦"
      ]
     },
     "execution_count": 6,
     "metadata": {},
     "output_type": "execute_result"
    }
   ],
   "source": [
    "eq_ve=[norm_sq(probs, ve)-1] #Norm(ve) = 1\n",
    "eq_ve"
   ]
  },
  {
   "cell_type": "markdown",
   "id": "6e96e63f",
   "metadata": {},
   "source": [
    "## $V_1$ and $V_2$\n",
    "By definition, $V_1 \\subset \\mathbb{L}^2 (\\sigma_1)$, and thus, elements of $V_1$ are functions of $X_1$. It implies that the values they take does not change w.r.t. the values taken by $X_2$. Hence, a function of $X$ in $V_1$ can be represented as\n",
    "$$v_1 = \\begin{pmatrix} g_0\\\\g_0\\\\g_1\\\\g_1 \\end{pmatrix},$$\n",
    "where $g_0, g_1 \\in \\mathbb{R}$."
   ]
  },
  {
   "cell_type": "code",
   "execution_count": 7,
   "id": "40cc0dc9",
   "metadata": {},
   "outputs": [],
   "source": [
    "g0,g1 = sym.symbols('g0,g1')\n",
    "v1=[g0,g0,g1,g1]\n",
    "param_v1=[g0,g1]"
   ]
  },
  {
   "cell_type": "markdown",
   "id": "984b7a7b",
   "metadata": {},
   "source": [
    "For $G_1$ to be in $V_1$, it must be orthogonal (w.r.t. the joint law to $X$) to the functions in $V_{\\emptyset}$. Additionnally, we want to find a vector $v_1 \\in V_1$ with unit norm."
   ]
  },
  {
   "cell_type": "code",
   "execution_count": 8,
   "id": "40cdd75f",
   "metadata": {},
   "outputs": [],
   "source": [
    "eq1_v1=prosca(probs, v1, ve) #v1 \\perp ve\n",
    "eq2_v1=norm_sq(probs, v1)-1 #Norm(v1)= 1\n",
    "eqs_v1= [eq1_v1, eq2_v1]"
   ]
  },
  {
   "cell_type": "markdown",
   "id": "5ae20fdf",
   "metadata": {},
   "source": [
    "Analogously, since $V_2 \\subset \\mathbb{L}^2 (\\sigma_2)$, any element of $v_2 \\in V_2$ admits the form:\n",
    "$$v_2 = \\begin{pmatrix} h_0\\\\h_1\\\\h_0\\\\h_1 \\end{pmatrix},$$\n",
    "where $h_0, h_1 \\in \\mathbb{R}$."
   ]
  },
  {
   "cell_type": "code",
   "execution_count": 9,
   "id": "1d6d0b9e",
   "metadata": {},
   "outputs": [],
   "source": [
    "h0,h1 = sym.symbols('h0,h1')\n",
    "v2=[h0,h1,h0,h1]\n",
    "param_v2=[h0,h1]\n",
    "\n",
    "eq1_v2=prosca(probs, v2, ve) #v2 \\perp ve\n",
    "eq2_v2=norm_sq(probs, v2)-1 #Norm(v2)= 1\n",
    "\n",
    "eqs_v2= [eq1_v2, eq2_v2]"
   ]
  },
  {
   "cell_type": "markdown",
   "id": "da558747",
   "metadata": {},
   "source": [
    "## $V_{12}$\n",
    "Since $V_{12} \\subset \\mathbb{L}^2 (\\sigma_{12})$, any element of $v_{12} \\in V_{12}$ admits the form:\n",
    "$$v_{12} = \\begin{pmatrix} k_{00}\\\\k_{01}\\\\k_{10}\\\\k_{11} \\end{pmatrix},$$\n",
    "where $k_{00},k_{01},k_{10},k_{11} \\in \\mathbb{R}$."
   ]
  },
  {
   "cell_type": "code",
   "execution_count": 10,
   "id": "82be9cad",
   "metadata": {},
   "outputs": [],
   "source": [
    "k00, k01, k10, k11 = sym.symbols('k00, k01, k10, k11')\n",
    "v12=[k00, k01, k10, k11]\n",
    "param_v12=[k00, k01, k10, k11]"
   ]
  },
  {
   "cell_type": "markdown",
   "id": "9030f6ae",
   "metadata": {},
   "source": [
    "By definition of $V_{12}$ it is the orthogonal complement in $\\mathbb{L}^2(\\sigma_{12}$ of \n",
    "$$V_{\\emptyset} + V_1 + V_2,$$\n",
    "which is equivalent to $V_{12}$ to be orthogonal to each of the summands."
   ]
  },
  {
   "cell_type": "code",
   "execution_count": 11,
   "id": "b011e442",
   "metadata": {},
   "outputs": [],
   "source": [
    "eq1_v12=prosca(probs, v12, ve) ## v12 \\perp ve\n",
    "eq2_v12=prosca(probs, v12, v1) ## v12 \\perp v1\n",
    "eq3_v12=prosca(probs, v12, v2) ## v12 \\perp v2\n",
    "eq4_v12=norm_sq(probs, v12)-1 ## Norm(v12)=1\n",
    "\n",
    "eqs_v12=[eq1_v12, eq2_v12, eq3_v12, eq4_v12]"
   ]
  },
  {
   "cell_type": "markdown",
   "id": "f6b422ec",
   "metadata": {},
   "source": [
    "## Canonical decomposition\n",
    "Any function $G(X)$ in $\\mathbb{L}^2(\\sigma_{12})$ can be represented as\n",
    "$$G = \\begin{pmatrix} G_{00}\\\\G_{01}\\\\G_{10}\\\\G_{11} \\end{pmatrix} $$"
   ]
  },
  {
   "cell_type": "code",
   "execution_count": 12,
   "id": "0d910fe4",
   "metadata": {},
   "outputs": [],
   "source": [
    "G00,G01,G10,G11 = sym.symbols('G00,G01,G10,G11')\n",
    "G=[G00,G01,G10,G11]"
   ]
  },
  {
   "cell_type": "markdown",
   "id": "97b56dae",
   "metadata": {},
   "source": [
    "And the canonical decomposition entails that\n",
    "\\begin{align*}\n",
    "    G &= e \\times v_{\\emptyset} + \\alpha \\times v_{1} + \\beta \\times v_{2} + \\delta \\times v_{12} \\\\\n",
    "    &= G_{\\emptyset} + G_{1} + G_2 + G_{12}.\n",
    "\\end{align*}"
   ]
  },
  {
   "cell_type": "code",
   "execution_count": 13,
   "id": "81ad706e",
   "metadata": {},
   "outputs": [],
   "source": [
    "alpha,beta,delta,e = sym.symbols('alpha, beta, delta, e')\n",
    "decomp_params = [alpha,beta,delta,e]\n",
    "\n",
    "eqs_params=[e*x + alpha*y + beta*z + delta*t - g for x,y,z,t, g in zip(ve, v1, v2, v12, G)]"
   ]
  },
  {
   "cell_type": "markdown",
   "id": "798eadf3",
   "metadata": {},
   "source": [
    "## Solution to the problem\n",
    "We have 13 parameters related to 13 different equations, which can be solved."
   ]
  },
  {
   "cell_type": "code",
   "execution_count": 14,
   "id": "009f555b",
   "metadata": {},
   "outputs": [
    {
     "name": "stdout",
     "output_type": "stream",
     "text": [
      "Number of parameters:\n",
      "13\n",
      "Number of equations:\n",
      "13\n"
     ]
    }
   ],
   "source": [
    "parameters= decomp_params + param_v12 + param_v2 + param_v1 + param_ve \n",
    "equations=eq_ve + eqs_v1 + eqs_v2 + eqs_v12 + eqs_params\n",
    "\n",
    "print(\"Number of parameters:\")\n",
    "print(len(parameters))\n",
    "\n",
    "print(\"Number of equations:\")\n",
    "print(len(equations))"
   ]
  },
  {
   "cell_type": "code",
   "execution_count": 15,
   "id": "fe47c660",
   "metadata": {},
   "outputs": [
    {
     "name": "stdout",
     "output_type": "stream",
     "text": [
      "Wall time: 44.9 s\n"
     ]
    }
   ],
   "source": [
    "%%time\n",
    "res_params=sym.solve(equations,\n",
    "                     parameters,\n",
    "                     dict=True,\n",
    "                    check=False)"
   ]
  },
  {
   "cell_type": "code",
   "execution_count": 16,
   "id": "d55080fd",
   "metadata": {},
   "outputs": [],
   "source": [
    "e_=res_params[2][e]\n",
    "ve=[res_params[2][c], res_params[2][c], res_params[2][c], res_params[2][c]]\n",
    "\n",
    "alpha_=res_params[2][alpha]\n",
    "v1 = [res_params[2][g0], res_params[2][g0], res_params[2][g1], res_params[2][g1]]\n",
    "\n",
    "beta_=res_params[2][beta]\n",
    "v2 = [res_params[2][h0], res_params[2][h1], res_params[2][h0], res_params[2][h1]]\n",
    "\n",
    "delta_=res_params[2][delta]\n",
    "v12 = [res_params[2][k00], res_params[2][k01], res_params[2][k10], res_params[2][k11]]"
   ]
  },
  {
   "cell_type": "code",
   "execution_count": 17,
   "id": "d8bbada2",
   "metadata": {},
   "outputs": [],
   "source": [
    "Ge=[sym.simplify(e_*x).factor(G00,G01,G10,G11) for x in ve]\n",
    "G1=[sym.simplify(alpha_*x).factor(G00,G01,G10,G11) for x in v1]\n",
    "G2=[sym.simplify(beta_*x).factor(G00,G01,G10,G11) for x in v2]\n",
    "G12=[sym.simplify(delta_*x).factor(G00,G01,G10,G11) for x in v12]"
   ]
  },
  {
   "cell_type": "markdown",
   "id": "0ec1103d",
   "metadata": {},
   "source": [
    "## Observations and verification\n",
    "\n",
    "### Evaluation decomposition\n",
    "$$G(X) = eV_{\\emptyset} + \\alpha V_1 + \\beta V_2 + \\delta V_{12}$$"
   ]
  },
  {
   "cell_type": "code",
   "execution_count": 18,
   "id": "321a733a",
   "metadata": {},
   "outputs": [
    {
     "data": {
      "image/png": "[encoded data removed]",
      "text/latex": [
       "$\\displaystyle \\left[ G_{00}, \\  G_{01}, \\  G_{10}, \\  G_{11}\\right]$"
      ],
      "text/plain": [
       "[G₀₀, G₀₁, G₁₀, G₁₁]"
      ]
     },
     "execution_count": 18,
     "metadata": {},
     "output_type": "execute_result"
    }
   ],
   "source": [
    "[sym.simplify(x + y + z + t) for x,y,z,t in zip(Ge, G1, G2, G12)]"
   ]
  },
  {
   "cell_type": "markdown",
   "id": "fedc5c84",
   "metadata": {},
   "source": [
    "### $e$ is equal to the expectation of $G(X)$:\n",
    "$$e = \\mathbb{E}[G(X)]$$"
   ]
  },
  {
   "cell_type": "code",
   "execution_count": 19,
   "id": "1a5b8297",
   "metadata": {},
   "outputs": [
    {
     "data": {
      "text/plain": [
       "True"
      ]
     },
     "execution_count": 19,
     "metadata": {},
     "output_type": "execute_result"
    }
   ],
   "source": [
    "sym.simplify(prosca(probs, G, [1,1,1,1]) - e_)==0"
   ]
  },
  {
   "cell_type": "markdown",
   "id": "3f701764",
   "metadata": {},
   "source": [
    "### Variance decomposition\n",
    "$$\\mathbb{E}[G^2(X)] = e^2 + \\alpha^2 + \\beta^2 + \\delta^2 + 2\\alpha\\beta \\mathbb{E}[V_1(X_1), V_2(X_2)]$$"
   ]
  },
  {
   "cell_type": "code",
   "execution_count": 20,
   "id": "4f75d246",
   "metadata": {},
   "outputs": [
    {
     "data": {
      "text/plain": [
       "True"
      ]
     },
     "execution_count": 20,
     "metadata": {},
     "output_type": "execute_result"
    }
   ],
   "source": [
    "normG= e_**2 + alpha_**2 + beta_**2 + delta_**2 + 2*alpha_*beta_*prosca(probs, v1,v2)\n",
    "sym.simplify(norm_sq(probs, G) - normG) == 0"
   ]
  },
  {
   "cell_type": "markdown",
   "id": "009a9d93",
   "metadata": {},
   "source": [
    "### Annihilating property\n",
    "\n",
    "#### $V_{12}$\n",
    "\n",
    "$$P_{1}(Q_{12}(G(X))) = 0$$"
   ]
  },
  {
   "cell_type": "code",
   "execution_count": 21,
   "id": "73794cdc",
   "metadata": {},
   "outputs": [
    {
     "data": {
      "image/png": "[encoded data removed]",
      "text/latex": [
       "$\\displaystyle \\left[ 0, \\  0, \\  0, \\  0\\right]$"
      ],
      "text/plain": [
       "[0, 0, 0, 0]"
      ]
     },
     "execution_count": 21,
     "metadata": {},
     "output_type": "execute_result"
    }
   ],
   "source": [
    "[sym.simplify(x) for x in orthProj(probs, G12, v1)]"
   ]
  },
  {
   "cell_type": "markdown",
   "id": "4c06ed40",
   "metadata": {},
   "source": [
    "$$P_{2}(Q_{12}(G(X))) = 0$$"
   ]
  },
  {
   "cell_type": "code",
   "execution_count": 22,
   "id": "e1de57e4",
   "metadata": {},
   "outputs": [
    {
     "data": {
      "image/png": "[encoded data removed]",
      "text/latex": [
       "$\\displaystyle \\left[ 0, \\  0, \\  0, \\  0\\right]$"
      ],
      "text/plain": [
       "[0, 0, 0, 0]"
      ]
     },
     "execution_count": 22,
     "metadata": {},
     "output_type": "execute_result"
    }
   ],
   "source": [
    "[sym.simplify(x) for x in orthProj(probs, G12, v2)]"
   ]
  },
  {
   "cell_type": "markdown",
   "id": "660122b8",
   "metadata": {},
   "source": [
    "$$P_{\\emptyset}(Q_{12}(G(X))) = 0$$"
   ]
  },
  {
   "cell_type": "code",
   "execution_count": 23,
   "id": "1e53230a",
   "metadata": {},
   "outputs": [
    {
     "data": {
      "image/png": "[encoded data removed]",
      "text/latex": [
       "$\\displaystyle \\left[ 0, \\  0, \\  0, \\  0\\right]$"
      ],
      "text/plain": [
       "[0, 0, 0, 0]"
      ]
     },
     "execution_count": 23,
     "metadata": {},
     "output_type": "execute_result"
    }
   ],
   "source": [
    "[sym.simplify(x) for x in orthProj(probs, G12, ve)]"
   ]
  },
  {
   "cell_type": "markdown",
   "id": "1dd32b17",
   "metadata": {},
   "source": [
    "#### $V_1$\n",
    "$$P_{\\emptyset}(Q_{1}(G(X))) = 0$$"
   ]
  },
  {
   "cell_type": "code",
   "execution_count": 24,
   "id": "4ae945d1",
   "metadata": {},
   "outputs": [
    {
     "data": {
      "image/png": "[encoded data removed]",
      "text/latex": [
       "$\\displaystyle \\left[ 0, \\  0, \\  0, \\  0\\right]$"
      ],
      "text/plain": [
       "[0, 0, 0, 0]"
      ]
     },
     "execution_count": 24,
     "metadata": {},
     "output_type": "execute_result"
    }
   ],
   "source": [
    "[sym.simplify(x) for x in orthProj(probs, G1, ve)]"
   ]
  },
  {
   "cell_type": "markdown",
   "id": "87915b29",
   "metadata": {},
   "source": [
    "#### $V_2$\n",
    "$$P_{\\emptyset}(Q_{2}(G(X))) = 0$$"
   ]
  },
  {
   "cell_type": "code",
   "execution_count": 25,
   "id": "250fa561",
   "metadata": {},
   "outputs": [
    {
     "data": {
      "image/png": "[encoded data removed]",
      "text/latex": [
       "$\\displaystyle \\left[ 0, \\  0, \\  0, \\  0\\right]$"
      ],
      "text/plain": [
       "[0, 0, 0, 0]"
      ]
     },
     "execution_count": 25,
     "metadata": {},
     "output_type": "execute_result"
    }
   ],
   "source": [
    "[sym.simplify(x) for x in orthProj(probs, G2, ve)]"
   ]
  },
  {
   "cell_type": "markdown",
   "id": "5d3c5b22",
   "metadata": {},
   "source": [
    "### Correlation of $X$ and $c_0(V_1,V_2)$\n",
    "\n",
    "$$c_0(V_1, V_2) = \\mathbb{E}[v_1(X_1)v_2(X_2)] = \\textrm{Corr}(X_1, X_2)$$"
   ]
  },
  {
   "cell_type": "code",
   "execution_count": 26,
   "id": "a2e1380b",
   "metadata": {},
   "outputs": [
    {
     "data": {
      "image/png": "[encoded data removed]",
      "text/latex": [
       "$\\displaystyle 0$"
      ],
      "text/plain": [
       "0"
      ]
     },
     "execution_count": 26,
     "metadata": {},
     "output_type": "execute_result"
    }
   ],
   "source": [
    "corrX=(rho-q1*q2)/(sym.sqrt(q1*(1-q1))*sym.sqrt(q2*(1-q2)))\n",
    "sym.simplify(prosca(probs, v1,v2) - corrX)"
   ]
  },
  {
   "cell_type": "markdown",
   "id": "2eb54593",
   "metadata": {},
   "source": [
    "### Bounds for definite-positiveness of $\\Delta$\n",
    "\n",
    "$\\Delta$ is definite-positive if\n",
    "$$|\\mathbb{E}[v_1(X_1)v_2(X_2)]|<1$$\n",
    "which restricts rho to takes the values:"
   ]
  },
  {
   "cell_type": "code",
   "execution_count": 27,
   "id": "df10789f",
   "metadata": {},
   "outputs": [
    {
     "data": {
      "image/png": "[encoded data removed]",
      "text/latex": [
       "$\\displaystyle \\left[ - \\sqrt{q_{1}} \\sqrt{q_{2}} \\sqrt{\\left(q_{1} - 1\\right) \\left(q_{2} - 1\\right)} + q_{1} q_{2}, \\  \\sqrt{q_{1}} \\sqrt{q_{2}} \\sqrt{\\left(q_{1} - 1\\right) \\left(q_{2} - 1\\right)} + q_{1} q_{2}\\right]$"
      ],
      "text/plain": [
       "⎡    ____   ____   ___________________            ____   ____   ______________\n",
       "⎣- ╲╱ q₁ ⋅╲╱ q₂ ⋅╲╱ (q₁ - 1)⋅(q₂ - 1)  + q₁⋅q₂, ╲╱ q₁ ⋅╲╱ q₂ ⋅╲╱ (q₁ - 1)⋅(q₂ \n",
       "\n",
       "_____        ⎤\n",
       "- 1)  + q₁⋅q₂⎦"
      ]
     },
     "execution_count": 27,
     "metadata": {},
     "output_type": "execute_result"
    }
   ],
   "source": [
    "bd_rho=sym.solve(sym.sqrt(prosca(probs, v1,v2)**2)-1, rho)\n",
    "bd_rho"
   ]
  },
  {
   "cell_type": "markdown",
   "id": "d1a65df2",
   "metadata": {},
   "source": [
    "# Evaluation Decomposition"
   ]
  },
  {
   "cell_type": "markdown",
   "id": "30049f6c",
   "metadata": {},
   "source": [
    "## Canonical Evaluation Decomposition"
   ]
  },
  {
   "cell_type": "markdown",
   "id": "5671f626",
   "metadata": {},
   "source": [
    "$G(X) = eV_{\\emptyset} + \\alpha V_1 + \\beta V_2 + \\delta V_{12}$"
   ]
  },
  {
   "cell_type": "code",
   "execution_count": 28,
   "id": "cd1f4388",
   "metadata": {},
   "outputs": [
    {
     "data": {
      "image/png": "[encoded data removed]",
      "text/latex": [
       "$\\displaystyle \\left[ G_{00}, \\  G_{01}, \\  G_{10}, \\  G_{11}\\right]$"
      ],
      "text/plain": [
       "[G₀₀, G₀₁, G₁₀, G₁₁]"
      ]
     },
     "execution_count": 28,
     "metadata": {},
     "output_type": "execute_result"
    }
   ],
   "source": [
    "[sym.simplify(x + y + z + t) for x,y,z,t in zip(Ge, G1, G2, G12)]"
   ]
  },
  {
   "cell_type": "markdown",
   "id": "a59b44d3",
   "metadata": {},
   "source": [
    "## Canonical Shapley"
   ]
  },
  {
   "cell_type": "code",
   "execution_count": 29,
   "id": "df3dfe5e",
   "metadata": {},
   "outputs": [],
   "source": [
    "CSh1 = [sym.simplify(x+sym.Rational(\"1/2\")*y) for x,y in zip(G1, G12)]\n",
    "CSh2 = [sym.simplify(x+sym.Rational(\"1/2\")*y) for x,y in zip(G2, G12)]"
   ]
  },
  {
   "cell_type": "code",
   "execution_count": 30,
   "id": "fe9cfa40",
   "metadata": {},
   "outputs": [
    {
     "data": {
      "image/png": "[encoded data removed]",
      "text/latex": [
       "$\\displaystyle \\left[ G_{00}, \\  G_{01}, \\  G_{10}, \\  G_{11}\\right]$"
      ],
      "text/plain": [
       "[G₀₀, G₀₁, G₁₀, G₁₁]"
      ]
     },
     "execution_count": 30,
     "metadata": {},
     "output_type": "execute_result"
    }
   ],
   "source": [
    "[sym.simplify(x+y+z) for x,y,z in zip(Ge, CSh1, CSh2)]"
   ]
  },
  {
   "cell_type": "markdown",
   "id": "25d44d08",
   "metadata": {},
   "source": [
    "# Variance Decomposition"
   ]
  },
  {
   "cell_type": "markdown",
   "id": "9e88c6fc",
   "metadata": {},
   "source": [
    "## Organic indices\n",
    "\n",
    "### Pure interaction"
   ]
  },
  {
   "cell_type": "code",
   "execution_count": 31,
   "id": "1c8bc5d7",
   "metadata": {},
   "outputs": [
    {
     "name": "stdout",
     "output_type": "stream",
     "text": [
      "Wall time: 2.37 s\n"
     ]
    }
   ],
   "source": [
    "%%time\n",
    "Se=sym.simplify(norm_sq(probs,Ge).subs(rho, q1*q2))\n",
    "S1=sym.simplify(norm_sq(probs,G1).subs(rho, q1*q2))\n",
    "S2=sym.simplify(norm_sq(probs,G2).subs(rho, q1*q2))\n",
    "S12=sym.simplify(norm_sq(probs,G12).subs(rho, q1*q2))\n",
    "S=[Se, S1, S2, S12]"
   ]
  },
  {
   "cell_type": "markdown",
   "id": "42d61604",
   "metadata": {},
   "source": [
    "### Dependence indices"
   ]
  },
  {
   "cell_type": "code",
   "execution_count": 32,
   "id": "b50d259e",
   "metadata": {},
   "outputs": [
    {
     "name": "stdout",
     "output_type": "stream",
     "text": [
      "Wall time: 49.6 s\n"
     ]
    }
   ],
   "source": [
    "%%time\n",
    "Pe=orthProj(probs, G, ve)\n",
    "P1=orthProj(probs, G, v1)\n",
    "P2= orthProj(probs, G, v2)\n",
    "P12= orthProj(probs, G, v12)\n",
    "\n",
    "De=sym.simplify(norm_sq(probs, [sym.simplify(x-y) for x,y in zip(Ge, Pe)]))\n",
    "D1=sym.simplify(norm_sq(probs, [sym.simplify(x-y) for x,y in zip(G1, P1)]))\n",
    "D2=sym.simplify(norm_sq(probs, [sym.simplify(x-y) for x,y in zip(G2, P2)]))\n",
    "D12=sym.simplify(norm_sq(probs, [sym.simplify(x-y) for x,y in zip(G12, P12)]))\n",
    "D=[De, D1, D2, D12]"
   ]
  },
  {
   "cell_type": "markdown",
   "id": "877c6391",
   "metadata": {},
   "source": [
    "## Canonical indices\n",
    "### Structural indices"
   ]
  },
  {
   "cell_type": "code",
   "execution_count": 33,
   "id": "fc0a1d0c",
   "metadata": {},
   "outputs": [
    {
     "name": "stdout",
     "output_type": "stream",
     "text": [
      "Wall time: 11 s\n"
     ]
    }
   ],
   "source": [
    "%%time\n",
    "Sue=sym.simplify(norm_sq(probs, Ge))\n",
    "Su1=sym.simplify(norm_sq(probs, G1))\n",
    "Su2=sym.simplify(norm_sq(probs, G2))\n",
    "Su12=sym.simplify(norm_sq(probs, G12))\n",
    "Su=[Sue, Su1, Su2, Su12]"
   ]
  },
  {
   "cell_type": "markdown",
   "id": "f5e1bb77",
   "metadata": {},
   "source": [
    "### Correlative indices"
   ]
  },
  {
   "cell_type": "code",
   "execution_count": 34,
   "id": "7f86227c",
   "metadata": {},
   "outputs": [
    {
     "name": "stdout",
     "output_type": "stream",
     "text": [
      "Wall time: 11.5 s\n"
     ]
    }
   ],
   "source": [
    "%%time\n",
    "Sce=sym.zeros(1)[0]\n",
    "Sc1=sym.simplify(prosca(probs, G1,G2))\n",
    "Sc2=sym.simplify(prosca(probs, G2,G1))\n",
    "Sc12=sym.zeros(1)[0]\n",
    "Sc=[Sce, Sc1, Sc2, Sc12]"
   ]
  },
  {
   "cell_type": "markdown",
   "id": "528acd47",
   "metadata": {},
   "source": [
    "# Case of $q_1=q_2=0.5$"
   ]
  },
  {
   "cell_type": "code",
   "execution_count": 35,
   "id": "518f1cd6",
   "metadata": {},
   "outputs": [],
   "source": [
    "rplc=[(q1, sym.Rational(\"1/2\")), (q2,sym.Rational(\"1/2\"))]"
   ]
  },
  {
   "cell_type": "markdown",
   "id": "4cbc9203",
   "metadata": {},
   "source": [
    "## Evaluation decomposition\n",
    "\n",
    "$$e \\times v_{\\emptyset} $$"
   ]
  },
  {
   "cell_type": "code",
   "execution_count": 36,
   "id": "cc5e990e",
   "metadata": {},
   "outputs": [
    {
     "data": {
      "image/png": "[encoded data removed]",
      "text/latex": [
       "$\\displaystyle \\left[ \\frac{G_{01} + G_{10} + \\rho \\left(2 G_{00} - 2 G_{01} - 2 G_{10} + 2 G_{11}\\right)}{2}, \\  \\frac{G_{01} + G_{10} + \\rho \\left(2 G_{00} - 2 G_{01} - 2 G_{10} + 2 G_{11}\\right)}{2}, \\  \\frac{G_{01} + G_{10} + \\rho \\left(2 G_{00} - 2 G_{01} - 2 G_{10} + 2 G_{11}\\right)}{2}, \\  \\frac{G_{01} + G_{10} + \\rho \\left(2 G_{00} - 2 G_{01} - 2 G_{10} + 2 G_{11}\\right)}{2}\\right]$"
      ],
      "text/plain": [
       "⎡G₀₁ + G₁₀ + ρ⋅(2⋅G₀₀ - 2⋅G₀₁ - 2⋅G₁₀ + 2⋅G₁₁)  G₀₁ + G₁₀ + ρ⋅(2⋅G₀₀ - 2⋅G₀₁ -\n",
       "⎢─────────────────────────────────────────────, ──────────────────────────────\n",
       "⎣                      2                                              2       \n",
       "\n",
       " 2⋅G₁₀ + 2⋅G₁₁)  G₀₁ + G₁₀ + ρ⋅(2⋅G₀₀ - 2⋅G₀₁ - 2⋅G₁₀ + 2⋅G₁₁)  G₀₁ + G₁₀ + ρ⋅\n",
       "───────────────, ─────────────────────────────────────────────, ──────────────\n",
       "                                       2                                      \n",
       "\n",
       "(2⋅G₀₀ - 2⋅G₀₁ - 2⋅G₁₀ + 2⋅G₁₁)⎤\n",
       "───────────────────────────────⎥\n",
       "        2                      ⎦"
      ]
     },
     "execution_count": 36,
     "metadata": {},
     "output_type": "execute_result"
    }
   ],
   "source": [
    "[sym.simplify((e_*x).subs(rplc)).factor(rho) for x in ve]"
   ]
  },
  {
   "cell_type": "markdown",
   "id": "ab3403a2",
   "metadata": {},
   "source": [
    "$$\\alpha \\times v_1$$"
   ]
  },
  {
   "cell_type": "code",
   "execution_count": 37,
   "id": "bd1123ee",
   "metadata": {},
   "outputs": [
    {
     "data": {
      "image/png": "[encoded data removed]",
      "text/latex": [
       "$\\displaystyle \\left[ \\frac{G_{00} + G_{01} - G_{10} - G_{11}}{4}, \\  \\frac{G_{00} + G_{01} - G_{10} - G_{11}}{4}, \\  - \\frac{G_{00} + G_{01} - G_{10} - G_{11}}{4}, \\  - \\frac{G_{00} + G_{01} - G_{10} - G_{11}}{4}\\right]$"
      ],
      "text/plain": [
       "⎡G₀₀ + G₀₁ - G₁₀ - G₁₁  G₀₀ + G₀₁ - G₁₀ - G₁₁  -(G₀₀ + G₀₁ - G₁₀ - G₁₁)   -(G₀\n",
       "⎢─────────────────────, ─────────────────────, ─────────────────────────, ────\n",
       "⎣          4                      4                        4                  \n",
       "\n",
       "₀ + G₀₁ - G₁₀ - G₁₁) ⎤\n",
       "─────────────────────⎥\n",
       "        4            ⎦"
      ]
     },
     "execution_count": 37,
     "metadata": {},
     "output_type": "execute_result"
    }
   ],
   "source": [
    "[sym.simplify((alpha_*x).subs(rplc)).factor() for x in v1]"
   ]
  },
  {
   "cell_type": "markdown",
   "id": "ac57cb29",
   "metadata": {},
   "source": [
    "$$\\beta \\times v_2$$"
   ]
  },
  {
   "cell_type": "code",
   "execution_count": 38,
   "id": "61440021",
   "metadata": {},
   "outputs": [
    {
     "data": {
      "image/png": "[encoded data removed]",
      "text/latex": [
       "$\\displaystyle \\left[ \\frac{G_{00}}{4} - \\frac{G_{01}}{4} + \\frac{G_{10}}{4} - \\frac{G_{11}}{4}, \\  - \\frac{G_{00}}{4} + \\frac{G_{01}}{4} - \\frac{G_{10}}{4} + \\frac{G_{11}}{4}, \\  \\frac{G_{00}}{4} - \\frac{G_{01}}{4} + \\frac{G_{10}}{4} - \\frac{G_{11}}{4}, \\  - \\frac{G_{00}}{4} + \\frac{G_{01}}{4} - \\frac{G_{10}}{4} + \\frac{G_{11}}{4}\\right]$"
      ],
      "text/plain": [
       "⎡G₀₀   G₀₁   G₁₀   G₁₁    G₀₀   G₀₁   G₁₀   G₁₁  G₀₀   G₀₁   G₁₀   G₁₁    G₀₀ \n",
       "⎢─── - ─── + ─── - ───, - ─── + ─── - ─── + ───, ─── - ─── + ─── - ───, - ─── \n",
       "⎣ 4     4     4     4      4     4     4     4    4     4     4     4      4  \n",
       "\n",
       "  G₀₁   G₁₀   G₁₁⎤\n",
       "+ ─── - ─── + ───⎥\n",
       "   4     4     4 ⎦"
      ]
     },
     "execution_count": 38,
     "metadata": {},
     "output_type": "execute_result"
    }
   ],
   "source": [
    "[sym.simplify((beta_*x).subs(rplc)) for x in v2]"
   ]
  },
  {
   "cell_type": "markdown",
   "id": "41776fd0",
   "metadata": {},
   "source": [
    "$$\\delta \\times v_2$$"
   ]
  },
  {
   "cell_type": "code",
   "execution_count": 39,
   "id": "a3b3da46",
   "metadata": {},
   "outputs": [
    {
     "data": {
      "image/png": "[encoded data removed]",
      "text/latex": [
       "$\\displaystyle \\left[ \\frac{\\left(- 4 \\rho^{2} + 4 \\rho - 1\\right) \\left(G_{00} - G_{01} - G_{10} + G_{11}\\right)}{2 \\cdot \\left(2 \\rho - 1\\right)}, \\  \\rho \\left(- G_{00} + G_{01} + G_{10} - G_{11}\\right), \\  \\rho \\left(- G_{00} + G_{01} + G_{10} - G_{11}\\right), \\  \\frac{\\rho \\sqrt{\\frac{1 - 2 \\rho}{\\rho}} \\sqrt{\\frac{- 4 \\rho^{2} + 4 \\rho - 1}{\\rho \\left(2 \\rho - 1\\right)}} \\left(G_{00} - G_{01} - G_{10} + G_{11}\\right)}{2}\\right]$"
      ],
      "text/plain": [
       "⎡                                                                             \n",
       "⎢                                                                             \n",
       "⎢                                                                             \n",
       "⎢⎛     2          ⎞                                                           \n",
       "⎢⎝- 4⋅ρ  + 4⋅ρ - 1⎠⋅(G₀₀ - G₀₁ - G₁₀ + G₁₁)                                   \n",
       "⎢──────────────────────────────────────────, ρ⋅(-G₀₀ + G₀₁ + G₁₀ - G₁₁), ρ⋅(-G\n",
       "⎣               2⋅(2⋅ρ - 1)                                                   \n",
       "\n",
       "                                            __________________                \n",
       "                             _________     ╱      2                           \n",
       "                            ╱ 1 - 2⋅ρ     ╱  - 4⋅ρ  + 4⋅ρ - 1                 \n",
       "                       ρ⋅  ╱  ─────── ⋅  ╱   ──────────────── ⋅(G₀₀ - G₀₁ - G₁\n",
       "                         ╲╱      ρ     ╲╱      ρ⋅(2⋅ρ - 1)                    \n",
       "₀₀ + G₀₁ + G₁₀ - G₁₁), ───────────────────────────────────────────────────────\n",
       "                                                      2                       \n",
       "\n",
       "        ⎤\n",
       "        ⎥\n",
       "        ⎥\n",
       "₀ + G₁₁)⎥\n",
       "        ⎥\n",
       "────────⎥\n",
       "        ⎦"
      ]
     },
     "execution_count": 39,
     "metadata": {},
     "output_type": "execute_result"
    }
   ],
   "source": [
    "[sym.simplify((delta_*x).subs(rplc)) for x in v12]"
   ]
  },
  {
   "cell_type": "markdown",
   "id": "0744bea7",
   "metadata": {},
   "source": [
    "## Variance Decomposition\n",
    "\n",
    "### Organic indices\n",
    "\n",
    "#### Pure interaction"
   ]
  },
  {
   "cell_type": "code",
   "execution_count": 40,
   "id": "e781f42b",
   "metadata": {},
   "outputs": [
    {
     "data": {
      "image/png": "[encoded data removed]",
      "text/latex": [
       "$\\displaystyle \\left[ \\frac{\\left(G_{00} + G_{01} + G_{10} + G_{11}\\right)^{2}}{16}, \\  \\frac{\\left(G_{00} + G_{01} - G_{10} - G_{11}\\right)^{2}}{16}, \\  \\frac{\\left(G_{00} - G_{01} + G_{10} - G_{11}\\right)^{2}}{16}, \\  \\frac{\\left(G_{00} - G_{01} - G_{10} + G_{11}\\right)^{2}}{16}\\right]$"
      ],
      "text/plain": [
       "⎡                       2                         2                         2 \n",
       "⎢(G₀₀ + G₀₁ + G₁₀ + G₁₁)   (G₀₀ + G₀₁ - G₁₀ - G₁₁)   (G₀₀ - G₀₁ + G₁₀ - G₁₁)  \n",
       "⎢────────────────────────, ────────────────────────, ────────────────────────,\n",
       "⎣           16                        16                        16            \n",
       "\n",
       "                        2⎤\n",
       " (G₀₀ - G₀₁ - G₁₀ + G₁₁) ⎥\n",
       " ────────────────────────⎥\n",
       "            16           ⎦"
      ]
     },
     "execution_count": 40,
     "metadata": {},
     "output_type": "execute_result"
    }
   ],
   "source": [
    "[sym.simplify(x.subs(rplc)) for x in S]"
   ]
  },
  {
   "cell_type": "markdown",
   "id": "de6bdcb6",
   "metadata": {},
   "source": [
    "#### Dependence indices"
   ]
  },
  {
   "cell_type": "code",
   "execution_count": 41,
   "id": "672d6a8f",
   "metadata": {},
   "outputs": [
    {
     "data": {
      "image/png": "[encoded data removed]",
      "text/latex": [
       "$\\displaystyle \\left[ 0, \\  \\frac{\\left(4 \\rho - 1\\right)^{2} \\left(- G_{00} + G_{01} - G_{10} + G_{11}\\right)^{2}}{16}, \\  \\frac{\\left(4 \\rho - 1\\right)^{2} \\left(- G_{00} - G_{01} + G_{10} + G_{11}\\right)^{2}}{16}, \\  0\\right]$"
      ],
      "text/plain": [
       "⎡            2                         2           2                         2\n",
       "⎢   (4⋅ρ - 1) ⋅(-G₀₀ + G₀₁ - G₁₀ + G₁₁)   (4⋅ρ - 1) ⋅(-G₀₀ - G₀₁ + G₁₀ + G₁₁) \n",
       "⎢0, ────────────────────────────────────, ────────────────────────────────────\n",
       "⎣                    16                                    16                 \n",
       "\n",
       "   ⎤\n",
       "   ⎥\n",
       ", 0⎥\n",
       "   ⎦"
      ]
     },
     "execution_count": 41,
     "metadata": {},
     "output_type": "execute_result"
    }
   ],
   "source": [
    "[sym.simplify(x.subs(rplc)).factor(rho) for x in D]"
   ]
  },
  {
   "cell_type": "markdown",
   "id": "4e62ce65",
   "metadata": {},
   "source": [
    "### Canonical indices\n",
    "#### Structural indices"
   ]
  },
  {
   "cell_type": "code",
   "execution_count": 42,
   "id": "d94e1b38",
   "metadata": {},
   "outputs": [
    {
     "data": {
      "image/png": "[encoded data removed]",
      "text/latex": [
       "$\\displaystyle \\left[ \\frac{\\left(G_{01} + G_{10} + \\rho \\left(2 G_{00} - 2 G_{01} - 2 G_{10} + 2 G_{11}\\right)\\right)^{2}}{4}, \\  \\frac{\\left(G_{00} + G_{01} - G_{10} - G_{11}\\right)^{2}}{16}, \\  \\frac{\\left(G_{00} - G_{01} + G_{10} - G_{11}\\right)^{2}}{16}, \\  - \\frac{\\rho \\left(2 \\rho - 1\\right) \\left(G_{00} - G_{01} - G_{10} + G_{11}\\right)^{2}}{2}\\right]$"
      ],
      "text/plain": [
       "⎡                                               2                         2   \n",
       "⎢(G₀₁ + G₁₀ + ρ⋅(2⋅G₀₀ - 2⋅G₀₁ - 2⋅G₁₀ + 2⋅G₁₁))   (G₀₀ + G₀₁ - G₁₀ - G₁₁)   (\n",
       "⎢────────────────────────────────────────────────, ────────────────────────, ─\n",
       "⎣                       4                                     16              \n",
       "\n",
       "                      2                                      2 ⎤\n",
       "G₀₀ - G₀₁ + G₁₀ - G₁₁)   -ρ⋅(2⋅ρ - 1)⋅(G₀₀ - G₀₁ - G₁₀ + G₁₁)  ⎥\n",
       "───────────────────────, ──────────────────────────────────────⎥\n",
       "          16                               2                   ⎦"
      ]
     },
     "execution_count": 42,
     "metadata": {},
     "output_type": "execute_result"
    }
   ],
   "source": [
    "[sym.simplify(x.subs(rplc)).factor(rho) for x in Su]"
   ]
  },
  {
   "cell_type": "markdown",
   "id": "87c46411",
   "metadata": {},
   "source": [
    "#### Correlative indices"
   ]
  },
  {
   "cell_type": "code",
   "execution_count": 43,
   "id": "07212070",
   "metadata": {},
   "outputs": [
    {
     "data": {
      "image/png": "[encoded data removed]",
      "text/latex": [
       "$\\displaystyle \\left[ 0, \\  \\left(4 \\rho - 1\\right) \\left(\\frac{G_{00}}{16} + \\frac{G_{01}}{16} - \\frac{G_{10}}{16} - \\frac{G_{11}}{16}\\right) \\left(G_{00} - G_{01} + G_{10} - G_{11}\\right), \\  \\left(4 \\rho - 1\\right) \\left(\\frac{G_{00}}{16} + \\frac{G_{01}}{16} - \\frac{G_{10}}{16} - \\frac{G_{11}}{16}\\right) \\left(G_{00} - G_{01} + G_{10} - G_{11}\\right), \\  0\\right]$"
      ],
      "text/plain": [
       "⎡             ⎛G₀₀   G₀₁   G₁₀   G₁₁⎞                                    ⎛G₀₀ \n",
       "⎢0, (4⋅ρ - 1)⋅⎜─── + ─── - ─── - ───⎟⋅(G₀₀ - G₀₁ + G₁₀ - G₁₁), (4⋅ρ - 1)⋅⎜─── \n",
       "⎣             ⎝ 16    16    16    16⎠                                    ⎝ 16 \n",
       "\n",
       "  G₀₁   G₁₀   G₁₁⎞                           ⎤\n",
       "+ ─── - ─── - ───⎟⋅(G₀₀ - G₀₁ + G₁₀ - G₁₁), 0⎥\n",
       "   16    16    16⎠                           ⎦"
      ]
     },
     "execution_count": 43,
     "metadata": {},
     "output_type": "execute_result"
    }
   ],
   "source": [
    "[sym.simplify(x.subs(rplc)).factor(rho) for x in Sc]"
   ]
  },
  {
   "cell_type": "markdown",
   "id": "70d2b413",
   "metadata": {},
   "source": [
    "# Further numerical testing"
   ]
  },
  {
   "cell_type": "code",
   "execution_count": 44,
   "id": "a71036e8",
   "metadata": {},
   "outputs": [
    {
     "name": "stdout",
     "output_type": "stream",
     "text": [
      "Var G\n",
      "13.6806203605639\n",
      "\n",
      "\n",
      "Var G indep\n",
      "13.4088889317681\n",
      "\n",
      "\n",
      "Probas : q1, q2, rho\n",
      "[0.028850246229265686, 0.6484828481519346, 0.003416651733481213]\n",
      "\n",
      "\n",
      "Correlation X1 and X2\n",
      "-0.19135097530836204\n",
      "\n",
      "\n",
      "c(L²(1),L²(2))\n",
      "-0.191350975308362\n",
      "\n",
      "\n",
      "rho LU bounds\n",
      "[0, 0.028850246229265686]\n",
      "\n",
      "\n",
      "rho DP bounds\n",
      "[0, 0.0986261104729329]\n",
      "\n",
      "\n",
      "Values : G00, G01, G10, G11\n",
      "[3.0, 4.0, 4.0, 2.2870857723289104]\n",
      "\n",
      "\n",
      "##########################################################################\n",
      "Evaluation decomposition\n",
      "##########################################################################\n",
      "\n",
      "Ge\n",
      "[3.66806401128244, 3.66806401128244, 3.66806401128244, 3.66806401128244]\n",
      "G1\n",
      "[-0.0189952475655124, -0.0189952475655124, 0.639413260097192, 0.639413260097192]\n",
      "G2\n",
      "[-0.624353328200793, 0.338437484200944, -0.624353328200793, 0.338437484200944]\n",
      "G12\n",
      "[-0.0247154355161360, 0.0124937520821266, 0.316876056821160, -2.35882898325167]\n",
      "Ge + G1 + G2 + G12\n",
      "[3.00000000000000, 4.00000000000000, 4.00000000000000, 2.28708577232891]\n",
      "\n",
      "\n",
      "##########################################################################\n",
      "Organic decomposition\n",
      "##########################################################################\n",
      "\n",
      "Pure interaction\n",
      "[0.980846682537967, 0.00120460583555726, 0.0144431300645849, 0.00350558156189049]\n",
      "1.00000000000000\n",
      "\n",
      "\n",
      "Dependence indices\n",
      "[0, 0.000565541472312945, 3.25073947774616e-5, 0]\n",
      "0.000598048867090407\n",
      "\n",
      "\n",
      "##########################################################################\n",
      "Canonical Decomposition\n",
      "##########################################################################\n",
      "\n",
      "Structural indices\n",
      "[0.983485634149333, 0.000887811579599808, 0.0154455400471367, 0.00159818643345630]\n",
      "1.00141717220953\n",
      "\n",
      "\n",
      "Correlative indices\n",
      "[0, -0.000708586104763110, -0.000708586104763110, 0]\n",
      "-0.00141717220952622\n",
      "\n",
      "\n"
     ]
    }
   ],
   "source": [
    "# Some Boolean function valued in R\n",
    "def model(x1,x2):\n",
    "    return(x1+x2-2*np.exp(x1*x2) + 5*np.log(np.pi)**(x1*x2))\n",
    "\n",
    "#Marginal probabilities\n",
    "p1,p2=np.random.random_sample(size=2)\n",
    "\n",
    "# Lower and upper bounds on the correlation between X1 and X2\n",
    "L = max(0, p1+p2-1)\n",
    "U = min(p1,p2)\n",
    "\n",
    "#Random sample of the correlation\n",
    "p12=(L-U)*np.random.random_sample(1)[0] + U\n",
    "\n",
    "\n",
    "\n",
    "#Sample the values of G\n",
    "g00 = model(0,0)\n",
    "g01 = model(0,1)\n",
    "g10 = model(1,0)\n",
    "g11 = model(1,1)\n",
    "\n",
    "Gb = [g00, g01, g10, g11]\n",
    "\n",
    "\n",
    "#Vector of replacements for the sympy formulas\n",
    "rplc=[(q1, p1), (q2, p2), (rho, p12), (G00, g00), (G01, g01), (G10, g10), (G11, g11)]\n",
    "\n",
    "#Variance of G under dependence\n",
    "VG=(norm_sq(probs, Gb)).subs(rplc)\n",
    "\n",
    "#Variance of G under mutual independence\n",
    "VG_=(norm_sq(probs, Gb)).subs(rho, q1*q2).subs(rplc)\n",
    "\n",
    "\n",
    "\n",
    "print('Var G')\n",
    "print(VG)\n",
    "print(\"\\n\")\n",
    "\n",
    "print('Var G indep')\n",
    "print(VG_)\n",
    "print(\"\\n\")\n",
    "\n",
    "print('Probas : q1, q2, rho')\n",
    "print([p1, p2, p12])\n",
    "print(\"\\n\")\n",
    "\n",
    "print('Correlation X1 and X2')\n",
    "print((p12-p1*p2)/(np.sqrt(p1*(1-p1))*np.sqrt(p2*(1-p2))))\n",
    "print(\"\\n\")\n",
    "\n",
    "print('c(L²(1),L²(2))')\n",
    "print(prosca(probs, v1,v2).subs(rplc))\n",
    "print(\"\\n\")\n",
    "\n",
    "print('rho LU bounds')\n",
    "print([L,U])\n",
    "print(\"\\n\")\n",
    "\n",
    "print(\"rho DP bounds\")\n",
    "dpb=[max(0,bd_rho[0].subs([(q1,p1),(q2,p2)])), min(1, bd_rho[1].subs([(q1,p1),(q2,p2)]))]\n",
    "print(dpb)\n",
    "print(\"\\n\")\n",
    "\n",
    "print('Values : G00, G01, G10, G11')\n",
    "print([g00, g01, g10, g11])\n",
    "print(\"\\n\")\n",
    "\n",
    "print('##########################################################################')\n",
    "print('Evaluation decomposition')\n",
    "print('##########################################################################\\n')\n",
    "print(\"Ge\")\n",
    "print([sym.simplify(x.subs(rplc)) for x in Ge])\n",
    "print(\"G1\")\n",
    "print([sym.simplify(x.subs(rplc)) for x in G1])\n",
    "print(\"G2\")\n",
    "print([sym.simplify(x.subs(rplc)) for x in G2])\n",
    "print(\"G12\")\n",
    "print([sym.simplify(x.subs(rplc)) for x in G12])\n",
    "print(\"Ge + G1 + G2 + G12\")\n",
    "print([sym.simplify((x+y+z+t).subs(rplc)) for x,y,z,t in zip(Ge, G1, G2, G12)])\n",
    "print(\"\\n\")\n",
    "\n",
    "print('##########################################################################')\n",
    "print('Organic decomposition')\n",
    "print('##########################################################################\\n')\n",
    "\n",
    "print('Pure interaction')\n",
    "print([sym.simplify(x.subs(rplc)/VG_) for x in S])\n",
    "print(sum([sym.simplify(x.subs(rplc)/VG_) for x in S]))\n",
    "print(\"\\n\")\n",
    "\n",
    "print('Dependence indices')\n",
    "print([sym.simplify(x.subs(rplc)/VG) for x in D])\n",
    "print(sum([sym.simplify(x.subs(rplc)/VG) for x in D]))\n",
    "print(\"\\n\")\n",
    "\n",
    "\n",
    "print('##########################################################################')\n",
    "print('Canonical Decomposition')\n",
    "print('##########################################################################\\n')\n",
    "print('Structural indices')\n",
    "print([sym.simplify(x.subs(rplc)/VG) for x in Su])\n",
    "print(sum([sym.simplify(x.subs(rplc)/VG) for x in Su]))\n",
    "print(\"\\n\")\n",
    "\n",
    "\n",
    "print('Correlative indices')\n",
    "print([sym.simplify(x.subs(rplc)/VG) for x in Sc])\n",
    "print(sum([sym.simplify(x.subs(rplc)/VG) for x in Sc]))\n",
    "print(\"\\n\")"
   ]
  }
 ],
 "metadata": {
  "kernelspec": {
   "display_name": "Python 3 (ipykernel)",
   "language": "python",
   "name": "python3"
  },
  "language_info": {
   "codemirror_mode": {
    "name": "ipython",
    "version": 3
   },
   "file_extension": ".py",
   "mimetype": "text/x-python",
   "name": "python",
   "nbconvert_exporter": "python",
   "pygments_lexer": "ipython3",
   "version": "3.8.11"
  }
 },
 "nbformat": 4,
 "nbformat_minor": 5
}
